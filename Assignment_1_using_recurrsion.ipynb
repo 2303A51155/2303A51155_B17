{
  "nbformat": 4,
  "nbformat_minor": 0,
  "metadata": {
    "colab": {
      "provenance": [],
      "authorship_tag": "ABX9TyN4qBDHfuJ4JBaA9RD4GtPq",
      "include_colab_link": true
    },
    "kernelspec": {
      "name": "python3",
      "display_name": "Python 3"
    },
    "language_info": {
      "name": "python"
    }
  },
  "cells": [
    {
      "cell_type": "markdown",
      "metadata": {
        "id": "view-in-github",
        "colab_type": "text"
      },
      "source": [
        "<a href=\"https://colab.research.google.com/github/2303A51155/2303A51155_B17/blob/main/Assignment_1_using_recurrsion.ipynb\" target=\"_parent\"><img src=\"https://colab.research.google.com/assets/colab-badge.svg\" alt=\"Open In Colab\"/></a>"
      ]
    },
    {
      "cell_type": "code",
      "execution_count": 1,
      "metadata": {
        "colab": {
          "base_uri": "https://localhost:8080/"
        },
        "id": "d0ckaQIVRjZv",
        "outputId": "f27901b1-75ba-48dc-c59d-ded8b38df414"
      },
      "outputs": [
        {
          "output_type": "stream",
          "name": "stdout",
          "text": [
            "Enter a number:5\n",
            "The factorial of 5 is 120\n"
          ]
        }
      ],
      "source": [
        "def factorial(n):\n",
        "  if n==0 or n==1:\n",
        "    return 1\n",
        "  else:\n",
        "    return n*factorial(n-1)\n",
        "number=int(input(\"Enter a number:\"))\n",
        "if number<0:\n",
        "  print(\"Factorial is not defined for negative numbers\")\n",
        "else:\n",
        "  result=factorial(number)\n",
        "  print(\"The factorial of\",number,\"is\",result)"
      ]
    },
    {
      "cell_type": "code",
      "source": [
        "def factorial(n):\n",
        "    if n == 0 or n == 1:\n",
        "        return 1\n",
        "    return n * factorial(n - 1)\n",
        "\n",
        "def compute_permutation(n, r):\n",
        "    if n < r:\n",
        "        raise ValueError(\"Invalid input: n must be greater than or equal to r.\")\n",
        "    print(f\"Calculating {n}P{r} = {n}! / ({n} - {r})!\")\n",
        "    numerator = factorial(n)\n",
        "    denominator = factorial(n - r)\n",
        "    print(f\"{n}! = {numerator}\")\n",
        "    print(f\"({n}-{r})! = {denominator}\")\n",
        "    result = numerator // denominator\n",
        "    print(f\"Permutations = {result}\")\n",
        "    return result\n",
        "\n",
        "# Example Usage\n",
        "try:\n",
        "    n = int(input(\"Enter total number of people (n): \"))\n",
        "    r = int(input(\"Enter number of places (r): \"))\n",
        "    compute_permutation(n, r)\n",
        "except ValueError as e:\n",
        "    print(\"Error:\", e)\n",
        "\n",
        "\n"
      ],
      "metadata": {
        "colab": {
          "base_uri": "https://localhost:8080/"
        },
        "id": "dITlmC0ncKJZ",
        "outputId": "cb10c5a8-5552-4007-a9e5-450259163cc5"
      },
      "execution_count": 8,
      "outputs": [
        {
          "output_type": "stream",
          "name": "stdout",
          "text": [
            "Enter total number of people (n): 5\n",
            "Enter number of places (r): 5\n",
            "Calculating 5P5 = 5! / (5 - 5)!\n",
            "5! = 120\n",
            "(5-5)! = 1\n",
            "Permutations = 120\n"
          ]
        }
      ]
    }
  ]
}